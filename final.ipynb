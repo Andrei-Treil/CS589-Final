{
 "cells": [
  {
   "cell_type": "code",
   "execution_count": 1,
   "metadata": {},
   "outputs": [],
   "source": [
    "import math\n",
    "import pandas as pd\n",
    "import numpy as np\n",
    "import matplotlib.pyplot as plt\n",
    "from collections import defaultdict,Counter\n",
    "from random import sample\n",
    "from sklearn import datasets\n",
    "from sklearn.model_selection import train_test_split\n",
    "import NeuralNet as nn\n",
    "import RandomForest as rf"
   ]
  },
  {
   "attachments": {},
   "cell_type": "markdown",
   "metadata": {},
   "source": [
    "## General Notes\n",
    "- This project is created by Andrei Treil and Sebastian McKay\n",
    "- For all implementations, we used Andrei Treil's versions of the code, either by creating python files such as ```NeuralNet.py``` and ```RandomForest.py``` or by copying and pasting the code directly into cells\n",
    "\n",
    "## Hand-Written Digits Dataset\n",
    "\n",
    "**Models Used:**\n",
    "- Neural Networks\n",
    "- KNN\n",
    "\n",
    "### 1. Neural Network\n",
    "\n",
    "**1.1** discuss which algorithms you decided to test on each dataset and why\n",
    "> For the hand drawn numbers dataset, we decided to use neural networks due to the large size of the data set, as well as the data all being numeric."
   ]
  },
  {
   "cell_type": "code",
   "execution_count": 2,
   "metadata": {},
   "outputs": [],
   "source": [
    "digits = datasets.load_digits(as_frame=True)\n",
    "dig_df = digits['data']\n",
    "dig_df['class'] = digits['target']\n",
    "dig_df.insert(0,'bias',1)\n",
    "\n",
    "#split data by class into k groups the combine into folds\n",
    "k = 10\n",
    "dig_class_0 = dig_df.loc[dig_df['class'] == 0].sample(frac=1)\n",
    "dig_class_0['class'] = [[1,0,0,0,0,0,0,0,0,0]] * len(dig_class_0)\n",
    "dg0_split =  np.array_split(dig_class_0,k)\n",
    "dig_class_1 = dig_df.loc[dig_df['class'] == 1].sample(frac=1)\n",
    "dig_class_1['class'] = [[0,1,0,0,0,0,0,0,0,0]] * len(dig_class_1)\n",
    "dg1_split =  np.array_split(dig_class_1,k)\n",
    "dig_class_2 = dig_df.loc[dig_df['class'] == 2].sample(frac=1)\n",
    "dig_class_2['class'] = [[0,0,1,0,0,0,0,0,0,0]] * len(dig_class_2)\n",
    "dg2_split =  np.array_split(dig_class_2,k)\n",
    "dig_class_3 = dig_df.loc[dig_df['class'] == 3].sample(frac=1)\n",
    "dig_class_3['class'] = [[0,0,0,1,0,0,0,0,0,0]] * len(dig_class_3)\n",
    "dg3_split =  np.array_split(dig_class_3,k)\n",
    "dig_class_4 = dig_df.loc[dig_df['class'] == 4].sample(frac=1)\n",
    "dig_class_4['class'] = [[0,0,0,0,1,0,0,0,0,0]] * len(dig_class_4)\n",
    "dg4_split =  np.array_split(dig_class_4,k)\n",
    "dig_class_5 = dig_df.loc[dig_df['class'] == 5].sample(frac=1)\n",
    "dig_class_5['class'] = [[0,0,0,0,0,1,0,0,0,0]] * len(dig_class_5)\n",
    "dg5_split =  np.array_split(dig_class_5,k)\n",
    "dig_class_6 = dig_df.loc[dig_df['class'] == 6].sample(frac=1)\n",
    "dig_class_6['class'] = [[0,0,0,0,0,0,1,0,0,0]] * len(dig_class_6)\n",
    "dg6_split =  np.array_split(dig_class_6,k)\n",
    "dig_class_7 = dig_df.loc[dig_df['class'] == 7].sample(frac=1)\n",
    "dig_class_7['class'] = [[0,0,0,0,0,0,0,1,0,0]] * len(dig_class_7)\n",
    "dg7_split =  np.array_split(dig_class_7,k)\n",
    "dig_class_8 = dig_df.loc[dig_df['class'] == 8].sample(frac=1)\n",
    "dig_class_8['class'] = [[0,0,0,0,0,0,0,0,1,0]] * len(dig_class_8)\n",
    "dg8_split =  np.array_split(dig_class_8,k)\n",
    "dig_class_9 = dig_df.loc[dig_df['class'] == 9].sample(frac=1)\n",
    "dig_class_9['class'] = [[0,0,0,0,0,0,0,0,0,1]] * len(dig_class_9)\n",
    "dg9_split =  np.array_split(dig_class_9,k)\n",
    "dig_vals = [[1,0,0,0,0,0,0,0,0,0],[0,1,0,0,0,0,0,0,0,0],[0,0,1,0,0,0,0,0,0,0],[0,0,0,1,0,0,0,0,0,0],[0,0,0,0,1,0,0,0,0,0],[0,0,0,0,0,1,0,0,0,0],[0,0,0,0,0,0,1,0,0,0],[0,0,0,0,0,0,0,1,0,0],[0,0,0,0,0,0,0,0,1,0],[0,0,0,0,0,0,0,0,0,1]]\n",
    "\n",
    "#list to hold folds\n",
    "dig_fold = []\n",
    "for i in range(k):\n",
    "    this_fold = [dg0_split[i],dg1_split[i],dg2_split[i],dg3_split[i],dg4_split[i],dg5_split[i],dg6_split[i],dg7_split[i],dg8_split[i],dg9_split[i]]\n",
    "    dig_fold.append(pd.concat(this_fold))\n",
    "\n",
    "#dig_nn_arc = [[64,64,10],[64,128,10],[64,64,128,10],[64,32,64,10],[64,64,32,64,10],[64,64,128,128,64,10]]\n",
    "dig_nn_arc = [[64,64,10],[64,128,10]]\n",
    "\n",
    "def dig_test(fold,vals,nn_arc,lamb,eps,alpha,batch_size):\n",
    "    dig_res = nn.k_fold(fold,vals,nn_arc,lamb,eps,alpha,batch_size)\n",
    "    arc_dict = defaultdict(list)\n",
    "    print(f'lamb = {lamb} eps = {eps} alpha = {alpha} batch_size = {batch_size}')\n",
    "\n",
    "    for arc,perf in dig_res.items():\n",
    "        avg_acc,avg_f1 = [0,0]\n",
    "        for res in perf:\n",
    "            avg_acc += res[0]\n",
    "            avg_f1 += res[1]\n",
    "        arc_dict['Architecture'].append(arc)\n",
    "        arc_dict['Accuracy'].append(avg_acc/10)\n",
    "        arc_dict['F1'].append(avg_f1/10)\n",
    "\n",
    "    arc_table = pd.DataFrame(arc_dict)\n",
    "    print(arc_table)"
   ]
  },
  {
   "attachments": {},
   "cell_type": "markdown",
   "metadata": {},
   "source": [
    "**1.3** To obtain the best performance possible, you should carefully adjust the hyper-parameters of each\n",
    "algorithm when deployed on a dataset"
   ]
  },
  {
   "cell_type": "code",
   "execution_count": 27,
   "metadata": {},
   "outputs": [
    {
     "name": "stdout",
     "output_type": "stream",
     "text": [
      "lamb = 0.4 eps = 0.01 alpha = 5 batch_size = 50\n",
      "    Architecture  Accuracy        F1\n",
      "0   [64, 64, 10]  0.955459  0.955166\n",
      "1  [64, 128, 10]  0.958234  0.957735\n",
      "lamb = 0.6 eps = 0.01 alpha = 5 batch_size = 50\n",
      "    Architecture  Accuracy        F1\n",
      "0   [64, 64, 10]  0.958786  0.959035\n",
      "1  [64, 128, 10]  0.964924  0.964825\n",
      "lamb = 0.4 eps = 0.001 alpha = 5 batch_size = 50\n",
      "    Architecture  Accuracy        F1\n",
      "0   [64, 64, 10]  0.964949  0.965058\n",
      "1  [64, 128, 10]  0.967716  0.967639\n",
      "lamb = 0.6 eps = 0.001 alpha = 5 batch_size = 50\n",
      "    Architecture  Accuracy        F1\n",
      "0   [64, 64, 10]  0.964918  0.964842\n",
      "1  [64, 128, 10]  0.968833  0.968655\n"
     ]
    }
   ],
   "source": [
    "hyper_params = [[0.4,0.01,5,50],[0.6,0.01,5,50],[0.4,0.001,5,50],[0.6,0.001,5,50]]\n",
    "for params in hyper_params:\n",
    "    dig_test(dig_fold,dig_vals,dig_nn_arc,params[0],params[1],params[2],params[3])"
   ]
  },
  {
   "cell_type": "code",
   "execution_count": 28,
   "metadata": {},
   "outputs": [
    {
     "name": "stdout",
     "output_type": "stream",
     "text": [
      "lamb = 0.2 eps = 0.001 alpha = 5 batch_size = 50\n",
      "        Architecture  Accuracy        F1\n",
      "0       [64, 64, 10]  0.965455  0.965219\n",
      "1      [64, 128, 10]  0.972150  0.972106\n",
      "2  [64, 64, 128, 10]  0.962743  0.962414\n",
      "3   [64, 32, 64, 10]  0.946058  0.945727\n",
      "lamb = 0.4 eps = 0.001 alpha = 5 batch_size = 50\n",
      "        Architecture  Accuracy        F1\n",
      "0       [64, 64, 10]  0.957652  0.957369\n",
      "1      [64, 128, 10]  0.972685  0.972667\n",
      "2  [64, 64, 128, 10]  0.959403  0.959354\n",
      "3   [64, 32, 64, 10]  0.945982  0.945710\n"
     ]
    }
   ],
   "source": [
    "dig_nn_arc = [[64,64,10],[64,128,10],[64,64,128,10],[64,32,64,10]]\n",
    "hyper_params = [[0.2,0.001,5,50],[0.4,0.001,5,50]]\n",
    "for params in hyper_params:\n",
    "    dig_test(dig_fold,dig_vals,dig_nn_arc,params[0],params[1],params[2],params[3])"
   ]
  },
  {
   "cell_type": "code",
   "execution_count": 3,
   "metadata": {},
   "outputs": [
    {
     "name": "stdout",
     "output_type": "stream",
     "text": [
      "lamb = 0.2 eps = 0.0001 alpha = 7 batch_size = 50\n",
      "         Architecture  Accuracy        F1\n",
      "0       [64, 128, 10]  0.966064  0.965883\n",
      "1  [64, 128, 128, 10]  0.972193  0.972465\n",
      "lamb = 0.2 eps = 0.0001 alpha = 10 batch_size = 50\n",
      "         Architecture  Accuracy        F1\n",
      "0       [64, 128, 10]  0.966079  0.965760\n",
      "1  [64, 128, 128, 10]  0.961644  0.961582\n"
     ]
    }
   ],
   "source": [
    "dig_nn_arc = [[64,128,10],[64,128,128,10]]\n",
    "hyper_params = [[0.2,0.0001,7,50],[0.2,0.0001,10,50]]\n",
    "for params in hyper_params:\n",
    "    dig_test(dig_fold,dig_vals,dig_nn_arc,params[0],params[1],params[2],params[3])"
   ]
  },
  {
   "cell_type": "code",
   "execution_count": 31,
   "metadata": {},
   "outputs": [
    {
     "name": "stdout",
     "output_type": "stream",
     "text": [
      "lamb = 0.2 eps = 0.0001 alpha = 5 batch_size = 50\n",
      "            Architecture  Accuracy        F1\n",
      "0           [64, 64, 10]  0.959416  0.959145\n",
      "1          [64, 128, 10]  0.969383  0.969181\n",
      "2     [64, 128, 128, 10]  0.972754  0.972740\n",
      "3  [64, 64, 128, 64, 10]  0.963294  0.963047\n",
      "lamb = 0.2 eps = 0.0001 alpha = 7 batch_size = 50\n",
      "            Architecture  Accuracy        F1\n",
      "0           [64, 64, 10]  0.957667  0.957718\n",
      "1          [64, 128, 10]  0.972792  0.972715\n",
      "2     [64, 128, 128, 10]  0.970452  0.970365\n",
      "3  [64, 64, 128, 64, 10]  0.962088  0.961845\n"
     ]
    }
   ],
   "source": [
    "dig_nn_arc = [[64,64,10],[64,128,10],[64,128,128,10],[64,64,128,64,10]]\n",
    "hyper_params = [[0.2,0.0001,5,50],[0.2,0.0001,7,50]]\n",
    "for params in hyper_params:\n",
    "    dig_test(dig_fold,dig_vals,dig_nn_arc,params[0],params[1],params[2],params[3])"
   ]
  },
  {
   "cell_type": "code",
   "execution_count": 7,
   "metadata": {},
   "outputs": [
    {
     "name": "stdout",
     "output_type": "stream",
     "text": [
      "lamb = 0.4 eps = 0.001 alpha = 5 batch_size = 50\n",
      "         Architecture  Accuracy        F1\n",
      "0       [64, 128, 10]  0.972705  0.972602\n",
      "1  [64, 128, 128, 10]  0.967140  0.967031\n",
      "lamb = 0.4 eps = 0.001 alpha = 7 batch_size = 50\n",
      "         Architecture  Accuracy        F1\n",
      "0       [64, 128, 10]  0.960403  0.960171\n",
      "1  [64, 128, 128, 10]  0.963249  0.963181\n"
     ]
    }
   ],
   "source": [
    "dig_nn_arc = [[64,128,10],[64,128,128,10]]\n",
    "hyper_params = [[0.4,0.001,5,50],[0.4,0.001,7,50]]\n",
    "for params in hyper_params:\n",
    "    dig_test(dig_fold,dig_vals,dig_nn_arc,params[0],params[1],params[2],params[3])"
   ]
  },
  {
   "cell_type": "code",
   "execution_count": 143,
   "metadata": {},
   "outputs": [
    {
     "name": "stdout",
     "output_type": "stream",
     "text": [
      "lamb = 0.1 eps = 0.0001 alpha = 7 batch_size = 50\n",
      "    Architecture  Accuracy        F1\n",
      "0  [64, 128, 10]  0.970007  0.969877\n",
      "lamb = 0.05 eps = 0.0001 alpha = 7 batch_size = 50\n",
      "    Architecture  Accuracy        F1\n",
      "0  [64, 128, 10]   0.97151  0.971131\n"
     ]
    }
   ],
   "source": [
    "dig_nn_arc = [[64,128,10]]\n",
    "hyper_params = [[0.1,0.0001,7,50],[0.05,0.0001,7,50]]\n",
    "for params in hyper_params:\n",
    "    dig_test(dig_fold,dig_vals,dig_nn_arc,params[0],params[1],params[2],params[3])"
   ]
  },
  {
   "cell_type": "code",
   "execution_count": 144,
   "metadata": {},
   "outputs": [
    {
     "name": "stdout",
     "output_type": "stream",
     "text": [
      "lamb = 0.1 eps = 0.0001 alpha = 5 batch_size = 50\n",
      "    Architecture  Accuracy       F1\n",
      "0  [64, 128, 10]  0.975509  0.97539\n",
      "lamb = 0.05 eps = 0.0001 alpha = 5 batch_size = 50\n",
      "    Architecture  Accuracy       F1\n",
      "0  [64, 128, 10]  0.963858  0.96357\n"
     ]
    }
   ],
   "source": [
    "dig_nn_arc = [[64,128,10]]\n",
    "hyper_params = [[0.1,0.0001,5,50],[0.05,0.0001,5,50]]\n",
    "for params in hyper_params:\n",
    "    dig_test(dig_fold,dig_vals,dig_nn_arc,params[0],params[1],params[2],params[3])"
   ]
  },
  {
   "cell_type": "code",
   "execution_count": 146,
   "metadata": {},
   "outputs": [
    {
     "name": "stdout",
     "output_type": "stream",
     "text": [
      "lamb = 0.1 eps = 0.0001 alpha = 3 batch_size = 50\n",
      "    Architecture  Accuracy        F1\n",
      "0  [64, 128, 10]  0.973884  0.973724\n",
      "lamb = 0.1 eps = 0.0001 alpha = 5 batch_size = 50\n",
      "    Architecture  Accuracy        F1\n",
      "0  [64, 128, 10]  0.970489  0.970409\n"
     ]
    }
   ],
   "source": [
    "dig_nn_arc = [[64,128,10]]\n",
    "hyper_params = [[0.1,0.0001,3,50],[0.1,0.0001,5,50]]\n",
    "for params in hyper_params:\n",
    "    dig_test(dig_fold,dig_vals,dig_nn_arc,params[0],params[1],params[2],params[3])"
   ]
  },
  {
   "attachments": {},
   "cell_type": "markdown",
   "metadata": {},
   "source": [
    "**1.4** After analyzing the performance of each algorithm under different hyper-parameters,\n",
    "identify the best hyper-parameter setting\n",
    "\n",
    "> From testing, using lamb = 0.1 eps = 0.0001 alpha = 5 batch_size = 50 resulted in the best performance, specifically using this architecture: [64,128,10]. For all parameters, using this architecture was best, although using 2 hidden layers with 128 neurons also yielded high performance. Lambda had the highest impact on performance, decreasing accuracy for higher values of lambda.\n",
    "\n",
    "**1.5** For each dataset, and considering the best hyper-parameter setting for each selected algorithm, construct\n",
    "relevant learning curves and/or graphs"
   ]
  },
  {
   "cell_type": "code",
   "execution_count": 149,
   "metadata": {},
   "outputs": [
    {
     "data": {
      "image/png": "[encoded data removed]",
      "text/plain": [
       "<Figure size 432x288 with 1 Axes>"
      ]
     },
     "metadata": {
      "needs_background": "light"
     },
     "output_type": "display_data"
    }
   ],
   "source": [
    "dig_j,dig_count = nn.k_fold(dig_fold,dig_vals,[[64,128,10]],0.1,0.0001,5,50,get_j=True)\n",
    "plt.plot(dig_count,dig_j)\n",
    "plt.xlabel('Number of Training Instances')\n",
    "plt.ylabel('Performance (J) on Test Set')\n",
    "plt.title('Hand Drawn Data Performance')\n",
    "plt.show()"
   ]
  },
  {
   "attachments": {},
   "cell_type": "markdown",
   "metadata": {},
   "source": [
    "Briefly discuss and interpret these graphs\n",
    "\n",
    "> This graph shows a clear downward trend in cost as the number of training instances increase, which is to be expected of neural networks.\n",
    "\n",
    "### 2. K-NN\n",
    "\n",
    "**2.1** discuss which algorithms you decided to test on each dataset and why\n",
    "> For the hand drawn numbers dataset, we decided to use K-NN due to the fact that drawings of the same numbers would likely be very close to each other in terms of euclidean distance of pixels, as well as the data all being numeric."
   ]
  },
  {
   "cell_type": "code",
   "execution_count": 206,
   "metadata": {},
   "outputs": [],
   "source": [
    "def test_decision_knn(train_set,test_set,vals,k_vals,fold_metrics):\n",
    "    test_copy = pd.DataFrame(test_set,copy=True)\n",
    "    to_guess = test_copy.drop('class',axis=1)\n",
    "    predictions = pd.DataFrame(to_guess.apply(lambda row: knn(k_vals,train_set,row), axis=1),columns=['predicted'])\n",
    "    predictions['actual'] = test_set.loc[predictions.index,'class']\n",
    "\n",
    "    for i in range(len(k_vals)):\n",
    "        prec,rec,f1 = [0,0,0]\n",
    "        for val in vals:\n",
    "            is_targ = predictions[predictions.predicted.apply(lambda x: x[i] == val)]\n",
    "            not_targ = predictions[predictions.predicted.apply(lambda x: x[i] != val)]\n",
    "            tp = len(is_targ[is_targ['predicted'].str[i] == is_targ['actual']])\n",
    "            fp = len(is_targ[is_targ['predicted'].str[i] != is_targ['actual']])\n",
    "            fn = len(not_targ[not_targ.actual.apply(lambda x: x == val)])\n",
    "            tn = len(not_targ[not_targ.actual.apply(lambda x: x != val)])\n",
    "            this_prec = (tp/(tp+fp)) if (tp+fp) > 0 else 0\n",
    "            this_rec = (tp/(tp+fn)) if (tp+fn) > 0 else 0\n",
    "            f1 += (this_prec*this_rec*2)/(this_rec+this_prec) if (this_rec+this_prec) > 0 else 0\n",
    "            prec += this_prec\n",
    "            rec += this_rec\n",
    "\n",
    "        avg_f1 = f1/len(vals)\n",
    "        accuracy = len(predictions[predictions['predicted'].str[i] == predictions['actual']])/len(test_set)\n",
    "        fold_metrics[k_vals[i]].append((accuracy,avg_f1))\n",
    "\n",
    "def knn(k_vals,data,instance):\n",
    "        out = []\n",
    "        distances = data.apply(lambda row: math.dist(row.drop('class'),instance), axis=1)\n",
    "        sorted_dist = distances.sort_values()\n",
    "        for k in k_vals:\n",
    "            #get k closest instances (including the input instance)\n",
    "            k_neighbors = sorted_dist[:k]\n",
    "            #get class value with largest number of occurences\n",
    "            out.append(data.loc[k_neighbors.index,['class']]['class'].mode()[0])\n",
    "        return out\n",
    "\n",
    "\n",
    "np.random.seed(1)\n",
    "k = 10\n",
    "#function to do cross fold validation\n",
    "def k_fold_jnn(fold,vals,j_vals):\n",
    "    fold_metrics = defaultdict(list)\n",
    "    #iterate through folds, taking turns being test fold\n",
    "    for i in range(k):\n",
    "        test_fold = fold[i]\n",
    "        train_fold = fold[0:i]\n",
    "        train_fold.extend(fold[i+1:len(fold)])\n",
    "        train_data = pd.concat(train_fold)\n",
    "        test_decision_knn(train_data,test_fold,vals,j_vals,fold_metrics)\n",
    "            \n",
    "    return fold_metrics\n",
    "\n",
    "def dig_test_knn(dig_fold,dig_vals,j_vals):\n",
    "    knn_res = k_fold_jnn(dig_fold,dig_vals,j_vals)\n",
    "    j_dict = defaultdict(list)\n",
    "\n",
    "    for j,perf in knn_res.items():\n",
    "        avg_acc,avg_f1 = [0,0]\n",
    "        for res in perf:\n",
    "            avg_acc += res[0]\n",
    "            avg_f1 += res[1]\n",
    "        j_dict['Num Neighbors'].append(j)\n",
    "        j_dict['Accuracy'].append(avg_acc/10)\n",
    "        j_dict['F1'].append(avg_f1/10)\n",
    "\n",
    "    j_table = pd.DataFrame(j_dict)\n",
    "    print(j_table)\n",
    "    return knn_res"
   ]
  },
  {
   "cell_type": "code",
   "execution_count": 6,
   "metadata": {},
   "outputs": [],
   "source": [
    "digits = datasets.load_digits(as_frame=True)\n",
    "dig_df = digits['data']\n",
    "dig_df['class'] = digits['target']\n",
    "dig_df = (dig_df - dig_df.min()) / (dig_df.max() - dig_df.min())\n",
    "dig_df.fillna(0,inplace=True)\n",
    "dig_class_0 = dig_df.loc[dig_df['class'] == 0].sample(frac=1)\n",
    "dg0_split =  np.array_split(dig_class_0,k)\n",
    "dig_class_1 = dig_df.loc[dig_df['class'] == 1/9].sample(frac=1)\n",
    "dg1_split =  np.array_split(dig_class_1,k)\n",
    "dig_class_2 = dig_df.loc[dig_df['class'] == 2/9].sample(frac=1)\n",
    "dg2_split =  np.array_split(dig_class_2,k)\n",
    "dig_class_3 = dig_df.loc[dig_df['class'] == 3/9].sample(frac=1)\n",
    "dg3_split =  np.array_split(dig_class_3,k)\n",
    "dig_class_4 = dig_df.loc[dig_df['class'] == 4/9].sample(frac=1)\n",
    "dg4_split =  np.array_split(dig_class_4,k)\n",
    "dig_class_5 = dig_df.loc[dig_df['class'] == 5/9].sample(frac=1)\n",
    "dg5_split =  np.array_split(dig_class_5,k)\n",
    "dig_class_6 = dig_df.loc[dig_df['class'] == 6/9].sample(frac=1)\n",
    "dg6_split =  np.array_split(dig_class_6,k)\n",
    "dig_class_7 = dig_df.loc[dig_df['class'] == 7/9].sample(frac=1)\n",
    "dg7_split =  np.array_split(dig_class_7,k)\n",
    "dig_class_8 = dig_df.loc[dig_df['class'] == 8/9].sample(frac=1)\n",
    "dg8_split =  np.array_split(dig_class_8,k)\n",
    "dig_class_9 = dig_df.loc[dig_df['class'] == 9/9].sample(frac=1)\n",
    "dg9_split =  np.array_split(dig_class_9,k)\n",
    "\n",
    "dig_vals = [0,1/9,2/9,3/9,4/9,5/9,6/9,7/9,8/9,9/9]\n",
    "#list to hold folds\n",
    "dig_fold = []\n",
    "for i in range(k):\n",
    "    this_fold = [dg0_split[i],dg1_split[i],dg2_split[i],dg3_split[i],dg4_split[i],dg5_split[i],dg6_split[i],dg7_split[i],dg8_split[i],dg9_split[i]]\n",
    "    dig_fold.append(pd.concat(this_fold))\n"
   ]
  },
  {
   "attachments": {},
   "cell_type": "markdown",
   "metadata": {},
   "source": [
    "**2.3** To obtain the best performance possible, you should carefully adjust the hyper-parameters of each\n",
    "algorithm when deployed on a dataset"
   ]
  },
  {
   "cell_type": "code",
   "execution_count": 30,
   "metadata": {},
   "outputs": [
    {
     "name": "stdout",
     "output_type": "stream",
     "text": [
      "    Num Neighbors  Accuracy        F1\n",
      "0               1  0.986578  0.986543\n",
      "1              10  0.983294  0.983319\n",
      "2              20  0.977175  0.976962\n",
      "3              30  0.966028  0.965733\n",
      "4              40  0.961546  0.961062\n",
      "5              50  0.952601  0.952120\n",
      "6              60  0.944879  0.944565\n",
      "7              70  0.939832  0.939233\n",
      "8              80  0.932074  0.931231\n",
      "9              90  0.931525  0.930757\n",
      "10            100  0.926557  0.925694\n"
     ]
    }
   ],
   "source": [
    "j_vals = [1,10,20,30,40,50,60,70,80,90,100]\n",
    "j_res = dig_test_knn(dig_fold,dig_vals,j_vals)"
   ]
  },
  {
   "attachments": {},
   "cell_type": "markdown",
   "metadata": {},
   "source": [
    "**2.4** After analyzing the performance of each algorithm under different hyper-parameters,\n",
    "identify the best hyper-parameter setting\n",
    "\n",
    "> From testing, using low number of neighbors yielded the best results, showing a clear decrease in accuracy as the value of K increased. The best hyper-parameter setting to use we identified was K = 1\n",
    "\n",
    "**2.5** For each dataset, and considering the best hyper-parameter setting for each selected algorithm, construct\n",
    "relevant learning curves and/or graphs"
   ]
  },
  {
   "cell_type": "code",
   "execution_count": 31,
   "metadata": {},
   "outputs": [
    {
     "data": {
      "image/png": "[encoded data removed]",
      "text/plain": [
       "<Figure size 432x288 with 1 Axes>"
      ]
     },
     "metadata": {
      "needs_background": "light"
     },
     "output_type": "display_data"
    }
   ],
   "source": [
    "j_vals = []\n",
    "j_acc = []\n",
    "for j,perf in j_res.items():\n",
    "    avg_acc,avg_f1 = [0,0]\n",
    "    for res in perf:\n",
    "        avg_acc += res[0]\n",
    "        avg_f1 += res[1]\n",
    "    j_acc.append(avg_acc/10)\n",
    "    j_vals.append(j)\n",
    "\n",
    "plt.plot(j_vals,j_acc)\n",
    "plt.xlabel(\"K value\")\n",
    "plt.ylabel(\"Accuracy\")\n",
    "plt.title(\"K-NN Neighbors vs Accuracy on Hand Drawn Dataset\")\n",
    "plt.show()"
   ]
  },
  {
   "attachments": {},
   "cell_type": "markdown",
   "metadata": {},
   "source": [
    "Briefly discuss and interpret these graphs\n",
    "\n",
    "> This graph shows a clear downward accuracy as K increases. K-NN peformed very well on this dataset, which is likely due to the nature of how hand drawn numbers are stored; since each instance represents pixel values in the drawn image, we would expect that the training data point closest to our test instance in terms of euclidean distance is in fact the expected output.\n"
   ]
  },
  {
   "attachments": {},
   "cell_type": "markdown",
   "metadata": {},
   "source": [
    "## Titanic Dataset\n",
    "\n",
    "**Models Used:**\n",
    "- Neural Network\n",
    "- Decision tree"
   ]
  },
  {
   "attachments": {},
   "cell_type": "markdown",
   "metadata": {},
   "source": [
    "### 1. Neural Network\n",
    "\n",
    "**1.1** discuss which algorithms you decided to test on each dataset and why\n",
    "> For the titanic dataset, we decided to use a neural network due to the large sample size and mostly numeric data."
   ]
  },
  {
   "cell_type": "code",
   "execution_count": 210,
   "metadata": {},
   "outputs": [],
   "source": [
    "tit_df = pd.read_csv('titanic.csv')\n",
    "tit_df = pd.get_dummies(tit_df.drop('Name',axis=1),columns=['Sex'],drop_first=True,dtype=float)\n",
    "fixed_df = tit_df.drop('Survived',axis=1)\n",
    "fixed_df['class'] = tit_df['Survived']\n",
    "fixed_df = (fixed_df - fixed_df.min()) / (fixed_df.max() - fixed_df.min())\n",
    "fixed_df.fillna(0,inplace=True)\n",
    "fixed_df.insert(0,'bias',1)\n",
    "tit_class_0 = fixed_df.loc[fixed_df['class'] == 0].sample(frac=1)\n",
    "tit_class_0['class'] = [[1,0]] * len(tit_class_0)\n",
    "t0_split =  np.array_split(tit_class_0,k)\n",
    "tit_class_1 = fixed_df.loc[fixed_df['class'] == 1].sample(frac=1)\n",
    "tit_class_1['class'] = [[0,1]] * len(tit_class_1)\n",
    "t1_split =  np.array_split(tit_class_1,k)\n",
    "\n",
    "k = 10\n",
    "tit_vals = [[1,0],[0,1]]\n",
    "#list to hold folds\n",
    "tit_fold = []\n",
    "for i in range(k):\n",
    "    this_fold = [t0_split[i],t1_split[i]]\n",
    "    tit_fold.append(pd.concat(this_fold))"
   ]
  },
  {
   "attachments": {},
   "cell_type": "markdown",
   "metadata": {},
   "source": [
    "**1.3** To obtain the best performance possible, you should carefully adjust the hyper-parameters of each\n",
    "algorithm when deployed on a dataset"
   ]
  },
  {
   "cell_type": "code",
   "execution_count": 20,
   "metadata": {},
   "outputs": [
    {
     "name": "stdout",
     "output_type": "stream",
     "text": [
      "lamb = 0.05 eps = 0.001 alpha = 3 batch_size = 25\n",
      "        Architecture  Accuracy        F1\n",
      "0          [6, 4, 2]  0.784920  0.768958\n",
      "1          [6, 8, 2]  0.789453  0.774124\n",
      "2         [6, 16, 2]  0.792823  0.777292\n",
      "3      [6, 8, 16, 2]  0.784933  0.769552\n",
      "4  [6, 8, 16, 16, 2]  0.770185  0.732146\n",
      "lamb = 0.05 eps = 0.001 alpha = 7 batch_size = 25\n",
      "        Architecture  Accuracy        F1\n",
      "0          [6, 4, 2]  0.790551  0.773858\n",
      "1          [6, 8, 2]  0.783784  0.767896\n",
      "2         [6, 16, 2]  0.789453  0.775258\n",
      "3      [6, 8, 16, 2]  0.788291  0.772513\n",
      "4  [6, 8, 16, 16, 2]  0.791674  0.775615\n",
      "lamb = 0.05 eps = 0.0001 alpha = 3 batch_size = 25\n",
      "        Architecture  Accuracy        F1\n",
      "0          [6, 4, 2]  0.784908  0.768253\n",
      "1          [6, 8, 2]  0.793960  0.778619\n",
      "2         [6, 16, 2]  0.787193  0.772083\n",
      "3      [6, 8, 16, 2]  0.792798  0.776038\n",
      "4  [6, 8, 16, 16, 2]  0.791687  0.775201\n",
      "lamb = 0.05 eps = 0.0001 alpha = 7 batch_size = 25\n",
      "        Architecture  Accuracy        F1\n",
      "0          [6, 4, 2]  0.791713  0.775348\n",
      "1          [6, 8, 2]  0.793973  0.779222\n",
      "2         [6, 16, 2]  0.779263  0.763847\n",
      "3      [6, 8, 16, 2]  0.789440  0.774200\n",
      "4  [6, 8, 16, 16, 2]  0.783771  0.768099\n"
     ]
    }
   ],
   "source": [
    "tit_nn_arc = [[6,4,2],[6,8,2],[6,16,2],[6,8,16,2],[6,8,16,16,2]]\n",
    "hyper_params = [[0.05,0.001,3,25],[0.05,0.001,7,25],[0.05,0.0001,3,25],[0.05,0.0001,7,25]]\n",
    "for params in hyper_params:\n",
    "    dig_test(tit_fold,tit_vals,tit_nn_arc,params[0],params[1],params[2],params[3])"
   ]
  },
  {
   "cell_type": "code",
   "execution_count": 203,
   "metadata": {},
   "outputs": [
    {
     "name": "stdout",
     "output_type": "stream",
     "text": [
      "lamb = 0.1 eps = 0.0001 alpha = 2 batch_size = 20\n",
      "             Architecture  Accuracy        F1\n",
      "0               [6, 8, 2]  0.787155  0.770646\n",
      "1             [6, 128, 2]  0.753293  0.747549\n",
      "2              [6, 16, 2]  0.787193  0.771480\n",
      "3        [6, 128, 128, 2]  0.755528  0.751763\n",
      "4      [6, 16, 32, 16, 2]  0.788291  0.773472\n",
      "5  [6, 16, 32, 32, 16, 2]  0.783809  0.769452\n",
      "lamb = 0.1 eps = 0.0001 alpha = 7 batch_size = 20\n",
      "             Architecture  Accuracy        F1\n",
      "0               [6, 8, 2]  0.788329  0.773561\n",
      "1             [6, 128, 2]  0.685758  0.684840\n",
      "2              [6, 16, 2]  0.777041  0.763296\n",
      "3        [6, 128, 128, 2]  0.666302  0.660193\n",
      "4      [6, 16, 32, 16, 2]  0.767976  0.756175\n",
      "5  [6, 16, 32, 32, 16, 2]  0.760073  0.724336\n",
      "lamb = 0.1 eps = 0.0001 alpha = 2 batch_size = 25\n",
      "             Architecture  Accuracy        F1\n",
      "0               [6, 8, 2]  0.786031  0.769922\n",
      "1             [6, 128, 2]  0.782533  0.770359\n",
      "2              [6, 16, 2]  0.789453  0.773901\n",
      "3        [6, 128, 128, 2]  0.783721  0.776729\n",
      "4      [6, 16, 32, 16, 2]  0.787193  0.770604\n",
      "5  [6, 16, 32, 32, 16, 2]  0.788316  0.773110\n",
      "lamb = 0.1 eps = 0.0001 alpha = 7 batch_size = 25\n",
      "             Architecture  Accuracy        F1\n",
      "0               [6, 8, 2]  0.790602  0.775523\n",
      "1             [6, 128, 2]  0.757826  0.752779\n",
      "2              [6, 16, 2]  0.780375  0.765427\n",
      "3        [6, 128, 128, 2]  0.746664  0.742149\n",
      "4      [6, 16, 32, 16, 2]  0.786082  0.771820\n",
      "5  [6, 16, 32, 32, 16, 2]  0.783784  0.767972\n"
     ]
    }
   ],
   "source": [
    "tit_nn_arc = [[6,8,2],[6,128,2],[6,16,2],[6,128,128,2],[6,16,32,16,2],[6,16,32,32,16,2]]\n",
    "hyper_params = [[0.1,0.0001,2,20],[0.1,0.0001,7,20],[0.1,0.0001,2,25],[0.1,0.0001,7,25]]\n",
    "for params in hyper_params:\n",
    "    dig_test(tit_fold,tit_vals,tit_nn_arc,params[0],params[1],params[2],params[3])"
   ]
  },
  {
   "attachments": {},
   "cell_type": "markdown",
   "metadata": {},
   "source": [
    "**1.4** After analyzing the performance of each algorithm under different hyper-parameters,\n",
    "identify the best hyper-parameter setting\n",
    "\n",
    "> From testing, using the best accuracy we could achieve was with lamb = 0.05 eps = 0.0001 alpha = 3 batch_size = 25 using an architecture with one hidden layer containing 8 neurons: [6,8,2]\n",
    "\n",
    "**1.5** For each dataset, and considering the best hyper-parameter setting for each selected algorithm, construct\n",
    "relevant learning curves and/or graphs"
   ]
  },
  {
   "cell_type": "code",
   "execution_count": 213,
   "metadata": {},
   "outputs": [
    {
     "data": {
      "image/png": "[encoded data removed]",
      "text/plain": [
       "<Figure size 432x288 with 1 Axes>"
      ]
     },
     "metadata": {
      "needs_background": "light"
     },
     "output_type": "display_data"
    }
   ],
   "source": [
    "tit_j,tit_count = nn.k_fold(tit_fold,tit_vals,[[6,8,2]],0.05,0.0001,3,25,get_j=True)\n",
    "plt.plot(tit_count,tit_j)\n",
    "plt.xlabel('Number of Training Instances')\n",
    "plt.ylabel('Performance (J) on Test Set')\n",
    "plt.title('Titanic Dataset Performance')\n",
    "plt.show()"
   ]
  },
  {
   "attachments": {},
   "cell_type": "markdown",
   "metadata": {},
   "source": [
    "Briefly discuss and interpret these graphs\n",
    "\n",
    "> This graph shows an reduction in cost as training instances increases, which is expected of neural nets. The general performance of this model on the titanic data set is quite low ~80% showing similar performance to other models. This could be due to the fact that determining survival is not easy to determing based on the information given.\n",
    "\n",
    "### 2. Decision Tree\n",
    "\n",
    "**2.1** discuss which algorithms you decided to test on each dataset and why\n",
    "> For the titanic dataset, we decided to use a decision due to the large sample size. For a smaller dataset, we would have likely used a random forest instead to avoid overfitting."
   ]
  },
  {
   "cell_type": "code",
   "execution_count": 2,
   "metadata": {},
   "outputs": [],
   "source": [
    "titanic_data_read = pd.read_csv('titanic.csv')\n",
    "titanic_data = pd.get_dummies(titanic_data_read.drop('Name',axis=1),columns=['Sex'],drop_first=True)\n",
    "titanic_data = titanic_data.drop('Survived',axis=1)\n",
    "titanic_data['class'] = titanic_data_read['Survived']\n",
    "titanic_attr = defaultdict(list)\n",
    "attr_list = list(titanic_data.columns.values)\n",
    "attr_list.remove('class')\n",
    "titanic_targets = [0,1]\n",
    "\n",
    "k = 10\n",
    "\n",
    "#split data by class into k groups then combine into folds\n",
    "tit_class_0 = titanic_data.loc[titanic_data['class'] == 0].sample(frac=1)\n",
    "td0_split = np.array_split(tit_class_0,k)\n",
    "tit_class_1 = titanic_data.loc[titanic_data['class'] == 1].sample(frac=1)\n",
    "td1_split = np.array_split(tit_class_1,k)\n",
    "\n",
    "titanic_fold = []\n",
    "for i in range(k):\n",
    "    this_fold = [td0_split[i],td1_split[i]]\n",
    "    titanic_fold.append(pd.concat(this_fold))"
   ]
  },
  {
   "cell_type": "code",
   "execution_count": 3,
   "metadata": {},
   "outputs": [],
   "source": [
    "def decision_tree_knn(titanic_fold,attr_list,titanic_attr,titanic_targets,depth,min_size_split,maj_prop,for_graph=False):\n",
    "    #for depth in max_depth_arr:\n",
    "    fold_metrics_titanic = rf.k_fold(titanic_fold,attr_list,titanic_attr,titanic_targets,[1],do_forest = False, max_depth=depth,min_size_split=min_size_split,maj_prop=maj_prop)\n",
    "    n_acc = []\n",
    "    n_prec = []\n",
    "    n_rec = []\n",
    "    n_f1 = []\n",
    "\n",
    "    for n,perf in fold_metrics_titanic.items():\n",
    "        avg_accuracy,avg_prec,avg_rec,avg_f1 = [0,0,0,0]\n",
    "        for res in perf:\n",
    "            avg_accuracy += res[0]\n",
    "            avg_prec += res[1]\n",
    "            avg_rec += res[2]\n",
    "            avg_f1 += res[3]\n",
    "        n_acc.append(avg_accuracy/10)\n",
    "        n_prec.append(avg_prec/10)\n",
    "        n_rec.append(avg_rec/10)\n",
    "        n_f1.append(avg_f1/10)\n",
    "\n",
    "    if for_graph:\n",
    "        return n_acc\n",
    "    \n",
    "    print(f'max_depth: {depth} min_size_split: {min_size_split} maj prop: {maj_prop}')\n",
    "    print(\"Accuracy: \", n_acc)\n",
    "    print(\"Precision\", n_prec)\n",
    "    print(\"Recall\", n_rec)\n",
    "    print(\"F1\", n_f1)\n"
   ]
  },
  {
   "attachments": {},
   "cell_type": "markdown",
   "metadata": {},
   "source": [
    "**2.3** To obtain the best performance possible, you should carefully adjust the hyper-parameters of each\n",
    "algorithm when deployed on a dataset"
   ]
  },
  {
   "cell_type": "code",
   "execution_count": 230,
   "metadata": {},
   "outputs": [
    {
     "name": "stdout",
     "output_type": "stream",
     "text": [
      "max_depth: 6 min_size_split: 10 maj prop: 0.875\n",
      "Accuracy:  [0.7833546135512428]\n",
      "Precision [0.7763838658091624]\n",
      "Recall [0.7592722745663922]\n",
      "F1 [0.7643430828668846]\n",
      "max_depth: 7 min_size_split: 10 maj prop: 0.875\n",
      "Accuracy:  [0.8094784927930995]\n",
      "Precision [0.8096850489334951]\n",
      "Recall [0.7895017400899753]\n",
      "F1 [0.7928574015108906]\n",
      "max_depth: 8 min_size_split: 10 maj prop: 0.875\n",
      "Accuracy:  [0.7867889569855862]\n",
      "Precision [0.7831971411783987]\n",
      "Recall [0.7622012845542256]\n",
      "F1 [0.7676562726774813]\n",
      "max_depth: 9 min_size_split: 10 maj prop: 0.875\n",
      "Accuracy:  [0.7936196231982748]\n",
      "Precision [0.7936733247493835]\n",
      "Recall [0.7711173358232181]\n",
      "F1 [0.7749397219374048]\n",
      "max_depth: 10 min_size_split: 10 maj prop: 0.875\n",
      "Accuracy:  [0.8059556236522528]\n",
      "Precision [0.8055203103948367]\n",
      "Recall [0.7842510539569363]\n",
      "F1 [0.7893199599303956]\n"
     ]
    }
   ],
   "source": [
    "hyper_params = [[6,10,0.875],[7,10,0.875],[8,10,0.875],[9,10,0.875],[10,10,0.875]]\n",
    "for params in hyper_params:\n",
    "    decision_tree_knn(titanic_fold,attr_list,titanic_attr,titanic_targets,params[0],params[1],params[2])"
   ]
  },
  {
   "cell_type": "code",
   "execution_count": 231,
   "metadata": {},
   "outputs": [
    {
     "name": "stdout",
     "output_type": "stream",
     "text": [
      "max_depth: 7 min_size_split: 8 maj prop: 0.875\n",
      "Accuracy:  [0.7868525139030756]\n",
      "Precision [0.7815060899650035]\n",
      "Recall [0.7611036131624366]\n",
      "F1 [0.7666713072748895]\n",
      "max_depth: 7 min_size_split: 10 maj prop: 0.875\n",
      "Accuracy:  [0.8013715809783226]\n",
      "Precision [0.8034633941103706]\n",
      "Recall [0.7734497637438814]\n",
      "F1 [0.7809410193867494]\n",
      "max_depth: 7 min_size_split: 12 maj prop: 0.875\n",
      "Accuracy:  [0.8059805924412666]\n",
      "Precision [0.8093006763334332]\n",
      "Recall [0.7771954842543078]\n",
      "F1 [0.7838276282816296]\n",
      "max_depth: 7 min_size_split: 14 maj prop: 0.875\n",
      "Accuracy:  [0.7902729542617184]\n",
      "Precision [0.785550279759695]\n",
      "Recall [0.7693785190844015]\n",
      "F1 [0.7737302132279205]\n",
      "max_depth: 7 min_size_split: 16 maj prop: 0.875\n",
      "Accuracy:  [0.7845928384973329]\n",
      "Precision [0.7778822794683296]\n",
      "Recall [0.7597964236199531]\n",
      "F1 [0.76500591853942]\n"
     ]
    }
   ],
   "source": [
    "hyper_params = [[7,8,0.875],[7,10,0.875],[7,12,0.875],[7,14,0.875],[7,16,0.875]]\n",
    "for params in hyper_params:\n",
    "    decision_tree_knn(titanic_fold,attr_list,titanic_attr,titanic_targets,params[0],params[1],params[2])"
   ]
  },
  {
   "cell_type": "code",
   "execution_count": 232,
   "metadata": {},
   "outputs": [
    {
     "name": "stdout",
     "output_type": "stream",
     "text": [
      "max_depth: 7 min_size_split: 8 maj prop: 0.85\n",
      "Accuracy:  [0.7902494041538984]\n",
      "Precision [0.7848700728138863]\n",
      "Recall [0.7660349998585293]\n",
      "F1 [0.7717361595535912]\n",
      "max_depth: 7 min_size_split: 8 maj prop: 0.875\n",
      "Accuracy:  [0.8094529565316083]\n",
      "Precision [0.810839575056327]\n",
      "Recall [0.783710352828]\n",
      "F1 [0.7900802855947241]\n",
      "max_depth: 7 min_size_split: 8 maj prop: 0.9\n",
      "Accuracy:  [0.8049826920894336]\n",
      "Precision [0.8052916894827126]\n",
      "Recall [0.7819602184308068]\n",
      "F1 [0.7873162888353912]\n",
      "max_depth: 7 min_size_split: 8 maj prop: 0.925\n",
      "Accuracy:  [0.7844535240040859]\n",
      "Precision [0.7782514870143593]\n",
      "Recall [0.760709334238746]\n",
      "F1 [0.7652106824381794]\n",
      "max_depth: 7 min_size_split: 8 maj prop: 0.95\n",
      "Accuracy:  [0.7981903302689819]\n",
      "Precision [0.7996295711975768]\n",
      "Recall [0.768829612653142]\n",
      "F1 [0.7773198110970176]\n"
     ]
    }
   ],
   "source": [
    "hyper_params = [[7,8,0.85],[7,8,0.875],[7,8,0.9],[7,8,0.925],[7,8,0.95],]\n",
    "for params in hyper_params:\n",
    "    decision_tree_knn(titanic_fold,attr_list,titanic_attr,titanic_targets,params[0],params[1],params[2])"
   ]
  },
  {
   "attachments": {},
   "cell_type": "markdown",
   "metadata": {},
   "source": [
    "**2.4** After analyzing the performance of each algorithm under different hyper-parameters,\n",
    "identify the best hyper-parameter setting\n",
    "\n",
    "> From testing, using the best accuracy we could achieve was with max depth of 7, minimum size split of 8, and majority prop value of 0.9\n",
    "\n",
    "**2.5** For each dataset, and considering the best hyper-parameter setting for each selected algorithm, construct\n",
    "relevant learning curves and/or graphs"
   ]
  },
  {
   "cell_type": "code",
   "execution_count": 4,
   "metadata": {},
   "outputs": [],
   "source": [
    "accuracy_arr = []\n",
    "for i in range(100):\n",
    "    accuracy_arr.append(decision_tree_knn(titanic_fold,attr_list,titanic_attr,titanic_targets,7,8,0.9,True))"
   ]
  },
  {
   "cell_type": "code",
   "execution_count": 16,
   "metadata": {},
   "outputs": [
    {
     "data": {
      "image/png": "[encoded data removed]",
      "text/plain": [
       "<Figure size 432x288 with 1 Axes>"
      ]
     },
     "metadata": {
      "needs_background": "light"
     },
     "output_type": "display_data"
    }
   ],
   "source": [
    "num_bins = 10\n",
    "fixed_arr = [acc[0] for acc in accuracy_arr]\n",
    "plt.hist(fixed_arr,bins=num_bins,edgecolor='white',linewidth=1)\n",
    "plt.ylabel(\"Accuracy Frequency\")\n",
    "plt.xlabel(\"Accuracy\")\n",
    "plt.title(\"Decision Tree on Titanic Dataset\")\n",
    "plt.text(0.78,17.5,f'mean:{np.mean(accuracy_arr):.2f} sd:{np.std(accuracy_arr):.2f}')\n",
    "plt.show()"
   ]
  },
  {
   "attachments": {},
   "cell_type": "markdown",
   "metadata": {},
   "source": [
    "Briefly discuss and interpret these graphs\n",
    "\n",
    "> This graph shows the average accuracy over 100 iterations of the decision tree, yielding a mean of 80% accuracy with a standard deviation of about 1%. This performance is similar to the performance of neural nets, leading us to believe that the low accuracy is due to the nature of predicting titanic survival being hard (being lucky probably played a role in survival).\n",
    "\n",
    "## Loan Eligibility Prediction Dataset\n",
    "\n",
    "**Models Used:**\n",
    "- K-NN\n",
    "- Random Forests\n",
    "\n",
    "### 1. K-NN\n",
    "\n",
    "**1.1** discuss which algorithms you decided to test on each dataset and why\n",
    "> For the loan dataset, we decided to use K-NN because we believed that people who are most similar to eachother based on the attributes would recieve the same loan status."
   ]
  },
  {
   "cell_type": "code",
   "execution_count": 39,
   "metadata": {},
   "outputs": [],
   "source": [
    "loan_df = pd.read_csv('loan.csv')\n",
    "dum_df = pd.get_dummies(loan_df.drop('Loan_ID',axis=1),columns=['Gender','Married','Education','Self_Employed','Property_Area','Loan_Status'],drop_first=True,dtype=float)\n",
    "fixed_df = dum_df.drop('Loan_Status_Y',axis=1)\n",
    "fixed_df.loc[fixed_df['Dependents'] == '3+','Dependents'] = 3\n",
    "fixed_df['Dependents'] = pd.to_numeric(fixed_df['Dependents'])\n",
    "fixed_df['class'] = dum_df['Loan_Status_Y']\n",
    "fixed_df = (fixed_df - fixed_df.min()) / (fixed_df.max() - fixed_df.min())\n",
    "fixed_df.fillna(0,inplace=True)\n",
    "loan_class_0 = fixed_df.loc[fixed_df['class'] == 0].sample(frac=1)\n",
    "l0_split =  np.array_split(loan_class_0,k)\n",
    "loan_class_1 = fixed_df.loc[fixed_df['class'] == 1].sample(frac=1)\n",
    "l1_split =  np.array_split(loan_class_1,k)\n",
    "\n",
    "k = 10\n",
    "loan_vals = [0,1]\n",
    "#list to hold folds\n",
    "loan_fold = []\n",
    "for i in range(k):\n",
    "    this_fold = [l0_split[i],l1_split[i]]\n",
    "    loan_fold.append(pd.concat(this_fold))"
   ]
  },
  {
   "cell_type": "code",
   "execution_count": 51,
   "metadata": {},
   "outputs": [
    {
     "name": "stdout",
     "output_type": "stream",
     "text": [
      "   Num Neighbors  Accuracy        F1\n",
      "0              1  0.699818  0.630189\n",
      "1              5  0.773054  0.682017\n",
      "2             10  0.770973  0.676292\n",
      "3             15  0.762636  0.628743\n",
      "4             20  0.764763  0.636746\n",
      "5             30  0.762458  0.620200\n",
      "6             40  0.739671  0.563968\n",
      "7             50  0.747831  0.575239\n",
      "8             60  0.731245  0.530473\n",
      "9             70  0.718657  0.495590\n"
     ]
    }
   ],
   "source": [
    "j_vals = [1,5,10,15,20,30,40,50,60,70]\n",
    "j_res = dig_test_knn(loan_fold,loan_vals,j_vals)"
   ]
  },
  {
   "attachments": {},
   "cell_type": "markdown",
   "metadata": {},
   "source": [
    "**1.4** After analyzing the performance of each algorithm under different hyper-parameters,\n",
    "identify the best hyper-parameter setting\n",
    "\n",
    "> From testing, using low number of neighbors yielded the best results, showing a decreasing trend as K grows larger than 5. The best hyper-parameter setting to use we identified was K = 5\n",
    "\n",
    "**1.5** For each dataset, and considering the best hyper-parameter setting for each selected algorithm, construct\n",
    "relevant learning curves and/or graphs"
   ]
  },
  {
   "cell_type": "code",
   "execution_count": 52,
   "metadata": {},
   "outputs": [
    {
     "data": {
      "image/png": "[encoded data removed]",
      "text/plain": [
       "<Figure size 432x288 with 1 Axes>"
      ]
     },
     "metadata": {
      "needs_background": "light"
     },
     "output_type": "display_data"
    }
   ],
   "source": [
    "j_vals = []\n",
    "j_acc = []\n",
    "for j,perf in j_res.items():\n",
    "    avg_acc,avg_f1 = [0,0]\n",
    "    for res in perf:\n",
    "        avg_acc += res[0]\n",
    "        avg_f1 += res[1]\n",
    "    j_acc.append(avg_acc/10)\n",
    "    j_vals.append(j)\n",
    "\n",
    "plt.plot(j_vals,j_acc)\n",
    "plt.xlabel(\"K value\")\n",
    "plt.ylabel(\"Accuracy\")\n",
    "plt.title(\"K-NN Neighbors vs Accuracy on Loans Dataset\")\n",
    "plt.show()"
   ]
  },
  {
   "attachments": {},
   "cell_type": "markdown",
   "metadata": {},
   "source": [
    "Briefly discuss and interpret these graphs\n",
    "\n",
    "> This graph shows a large jump in accuracy from K = 1 to K = 5. For all K > 5, there is a clear downward trend in accuracy as K increases. This model did not perform well for the dataset, likely due to the fact that the loans dataset contains a large number of categorical variables.\n",
    "\n",
    "## Oxford Parkingson's Disease Detection\n",
    "\n",
    "**Models Used:**\n",
    "- K-NN\n",
    "- Random Forest\n",
    "\n",
    "### 1. K-NN\n",
    "**1.1** discuss which algorithms you decided to test on each dataset and why\n",
    "> For the parkinsons dataset, we decided to use K-NN because all of the data is numeric."
   ]
  },
  {
   "cell_type": "code",
   "execution_count": 42,
   "metadata": {},
   "outputs": [],
   "source": [
    "park_df = pd.read_csv('parkinsons.csv')\n",
    "\n",
    "park_fix = park_df.drop('Diagnosis',axis=1)\n",
    "park_fix['class'] = park_df['Diagnosis']\n",
    "park_fix = (park_fix - park_fix.min()) / (park_fix.max() - park_fix.min())\n",
    "park_fix.fillna(0,inplace=True)\n",
    "park_class_0 = park_fix.loc[park_fix['class'] == 0].sample(frac=1)\n",
    "p0_split =  np.array_split(park_class_0,k)\n",
    "park_class_1 = park_fix.loc[park_fix['class'] == 1].sample(frac=1)\n",
    "p1_split =  np.array_split(park_class_1,k)\n",
    "\n",
    "k = 10\n",
    "park_vals = [0,1]\n",
    "#list to hold folds\n",
    "park_fold = []\n",
    "for i in range(k):\n",
    "    this_fold = [p0_split[i],p1_split[i]]\n",
    "    park_fold.append(pd.concat(this_fold))"
   ]
  },
  {
   "attachments": {},
   "cell_type": "markdown",
   "metadata": {},
   "source": [
    "**1.4** After analyzing the performance of each algorithm under different hyper-parameters,\n",
    "identify the best hyper-parameter setting\n",
    "\n",
    "> From testing, using low number of neighbors yielded the best results, showing a clear decrease in accuracy as the value of K increased. The best hyper-parameter setting to use we identified was K = 1\n",
    "\n",
    "**1.5** For each dataset, and considering the best hyper-parameter setting for each selected algorithm, construct\n",
    "relevant learning curves and/or graphs"
   ]
  },
  {
   "cell_type": "code",
   "execution_count": 47,
   "metadata": {},
   "outputs": [
    {
     "name": "stdout",
     "output_type": "stream",
     "text": [
      "    Num Neighbors  Accuracy        F1\n",
      "0               1  0.964211  0.954831\n",
      "1               5  0.928392  0.901292\n",
      "2              10  0.891170  0.845451\n",
      "3              15  0.840614  0.728745\n",
      "4              20  0.829503  0.676902\n",
      "5              25  0.815058  0.636132\n",
      "6              30  0.830058  0.670143\n",
      "7              35  0.835058  0.672254\n",
      "8              40  0.830058  0.663797\n",
      "9              45  0.810058  0.609038\n",
      "10             50  0.794503  0.564036\n"
     ]
    }
   ],
   "source": [
    "j_vals = [1,5,10,15,20,25,30,35,40,45,50]\n",
    "j_res = dig_test_knn(park_fold,park_vals,j_vals)"
   ]
  },
  {
   "cell_type": "code",
   "execution_count": 48,
   "metadata": {},
   "outputs": [
    {
     "data": {
      "image/png": "[encoded data removed]",
      "text/plain": [
       "<Figure size 432x288 with 1 Axes>"
      ]
     },
     "metadata": {
      "needs_background": "light"
     },
     "output_type": "display_data"
    }
   ],
   "source": [
    "j_vals = []\n",
    "j_acc = []\n",
    "for j,perf in j_res.items():\n",
    "    avg_acc,avg_f1 = [0,0]\n",
    "    for res in perf:\n",
    "        avg_acc += res[0]\n",
    "        avg_f1 += res[1]\n",
    "    j_acc.append(avg_acc/10)\n",
    "    j_vals.append(j)\n",
    "\n",
    "plt.plot(j_vals,j_acc)\n",
    "plt.xlabel(\"K value\")\n",
    "plt.ylabel(\"Accuracy\")\n",
    "plt.title(\"K-NN Neighbors vs Accuracy on Parkiknsons Dataset\")\n",
    "plt.show()"
   ]
  },
  {
   "attachments": {},
   "cell_type": "markdown",
   "metadata": {},
   "source": [
    "Briefly discuss and interpret these graphs\n",
    "\n",
    "> This graph shows a clear downward accuracy as K increases. K-NN peformed very well on this dataset, which is likely due to the fact that the parkinsons data is all continuous and numeric."
   ]
  }
 ],
 "metadata": {
  "kernelspec": {
   "display_name": "Python 3",
   "language": "python",
   "name": "python3"
  },
  "language_info": {
   "codemirror_mode": {
    "name": "ipython",
    "version": 3
   },
   "file_extension": ".py",
   "mimetype": "text/x-python",
   "name": "python",
   "nbconvert_exporter": "python",
   "pygments_lexer": "ipython3",
   "version": "3.9.13"
  },
  "orig_nbformat": 4
 },
 "nbformat": 4,
 "nbformat_minor": 2
}
