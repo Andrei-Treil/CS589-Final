{
 "cells": [
  {
   "cell_type": "code",
   "execution_count": 1,
   "metadata": {},
   "outputs": [],
   "source": [
    "import math\n",
    "import pandas as pd\n",
    "import numpy as np\n",
    "import matplotlib.pyplot as plt\n",
    "from collections import defaultdict,Counter\n",
    "from random import sample\n",
    "from sklearn import datasets\n",
    "from sklearn.model_selection import train_test_split\n",
    "import NeuralNet as nn"
   ]
  },
  {
   "attachments": {},
   "cell_type": "markdown",
   "metadata": {},
   "source": [
    "## Hand-Written Digits Dataset\n",
    "\n",
    "**Models Used:**\n",
    "- Neural Networks\n",
    "- KNN\n",
    "\n",
    "### 1. Neural Network"
   ]
  },
  {
   "cell_type": "code",
   "execution_count": 2,
   "metadata": {},
   "outputs": [],
   "source": [
    "digits = datasets.load_digits(as_frame=True)\n",
    "dig_df = digits['data']\n",
    "dig_df['class'] = digits['target']\n",
    "dig_df.insert(0,'bias',1)\n",
    "\n",
    "#split data by class into k groups the combine into folds\n",
    "k = 10\n",
    "dig_class_0 = dig_df.loc[dig_df['class'] == 0].sample(frac=1)\n",
    "dig_class_0['class'] = [[1,0,0,0,0,0,0,0,0,0]] * len(dig_class_0)\n",
    "dg0_split =  np.array_split(dig_class_0,k)\n",
    "dig_class_1 = dig_df.loc[dig_df['class'] == 1].sample(frac=1)\n",
    "dig_class_1['class'] = [[0,1,0,0,0,0,0,0,0,0]] * len(dig_class_1)\n",
    "dg1_split =  np.array_split(dig_class_1,k)\n",
    "dig_class_2 = dig_df.loc[dig_df['class'] == 2].sample(frac=1)\n",
    "dig_class_2['class'] = [[0,0,1,0,0,0,0,0,0,0]] * len(dig_class_2)\n",
    "dg2_split =  np.array_split(dig_class_2,k)\n",
    "dig_class_3 = dig_df.loc[dig_df['class'] == 3].sample(frac=1)\n",
    "dig_class_3['class'] = [[0,0,0,1,0,0,0,0,0,0]] * len(dig_class_3)\n",
    "dg3_split =  np.array_split(dig_class_3,k)\n",
    "dig_class_4 = dig_df.loc[dig_df['class'] == 4].sample(frac=1)\n",
    "dig_class_4['class'] = [[0,0,0,0,1,0,0,0,0,0]] * len(dig_class_4)\n",
    "dg4_split =  np.array_split(dig_class_4,k)\n",
    "dig_class_5 = dig_df.loc[dig_df['class'] == 5].sample(frac=1)\n",
    "dig_class_5['class'] = [[0,0,0,0,0,1,0,0,0,0]] * len(dig_class_5)\n",
    "dg5_split =  np.array_split(dig_class_5,k)\n",
    "dig_class_6 = dig_df.loc[dig_df['class'] == 6].sample(frac=1)\n",
    "dig_class_6['class'] = [[0,0,0,0,0,0,1,0,0,0]] * len(dig_class_6)\n",
    "dg6_split =  np.array_split(dig_class_6,k)\n",
    "dig_class_7 = dig_df.loc[dig_df['class'] == 7].sample(frac=1)\n",
    "dig_class_7['class'] = [[0,0,0,0,0,0,0,1,0,0]] * len(dig_class_7)\n",
    "dg7_split =  np.array_split(dig_class_7,k)\n",
    "dig_class_8 = dig_df.loc[dig_df['class'] == 8].sample(frac=1)\n",
    "dig_class_8['class'] = [[0,0,0,0,0,0,0,0,1,0]] * len(dig_class_8)\n",
    "dg8_split =  np.array_split(dig_class_8,k)\n",
    "dig_class_9 = dig_df.loc[dig_df['class'] == 9].sample(frac=1)\n",
    "dig_class_9['class'] = [[0,0,0,0,0,0,0,0,0,1]] * len(dig_class_9)\n",
    "dg9_split =  np.array_split(dig_class_9,k)\n",
    "dig_vals = [[1,0,0,0,0,0,0,0,0,0],[0,1,0,0,0,0,0,0,0,0],[0,0,1,0,0,0,0,0,0,0],[0,0,0,1,0,0,0,0,0,0],[0,0,0,0,1,0,0,0,0,0],[0,0,0,0,0,1,0,0,0,0],[0,0,0,0,0,0,1,0,0,0],[0,0,0,0,0,0,0,1,0,0],[0,0,0,0,0,0,0,0,1,0],[0,0,0,0,0,0,0,0,0,1]]\n",
    "\n",
    "#list to hold folds\n",
    "dig_fold = []\n",
    "for i in range(k):\n",
    "    this_fold = [dg0_split[i],dg1_split[i],dg2_split[i],dg3_split[i],dg4_split[i],dg5_split[i],dg6_split[i],dg7_split[i],dg8_split[i],dg9_split[i]]\n",
    "    dig_fold.append(pd.concat(this_fold))\n",
    "\n",
    "#dig_nn_arc = [[64,64,10],[64,128,10],[64,64,128,10],[64,32,64,10],[64,64,32,64,10],[64,64,128,128,64,10]]\n",
    "dig_nn_arc = [[64,64,10],[64,128,10]]\n",
    "\n",
    "def dig_test(lamb,eps,alpha,batch_size):\n",
    "    dig_res = nn.k_fold(dig_fold,dig_vals,dig_nn_arc,lamb,eps,alpha,batch_size)\n",
    "    arc_dict = defaultdict(list)\n",
    "    print(f'lamb = {lamb} eps = {eps} alpha = {alpha} batch_size = {batch_size}')\n",
    "\n",
    "    for arc,perf in dig_res.items():\n",
    "        avg_acc,avg_f1 = [0,0]\n",
    "        for res in perf:\n",
    "            avg_acc += res[0]\n",
    "            avg_f1 += res[1]\n",
    "        arc_dict['Architecture'].append(arc)\n",
    "        arc_dict['Accuracy'].append(avg_acc/10)\n",
    "        arc_dict['F1'].append(avg_f1/10)\n",
    "\n",
    "    arc_table = pd.DataFrame(arc_dict)\n",
    "    print(arc_table)"
   ]
  },
  {
   "attachments": {},
   "cell_type": "markdown",
   "metadata": {},
   "source": [
    "**1.3** To obtain the best performance possible, you should carefully adjust the hyper-parameters of each\n",
    "algorithm when deployed on a dataset"
   ]
  },
  {
   "cell_type": "code",
   "execution_count": 27,
   "metadata": {},
   "outputs": [
    {
     "name": "stdout",
     "output_type": "stream",
     "text": [
      "lamb = 0.4 eps = 0.01 alpha = 5 batch_size = 50\n",
      "    Architecture  Accuracy        F1\n",
      "0   [64, 64, 10]  0.955459  0.955166\n",
      "1  [64, 128, 10]  0.958234  0.957735\n",
      "lamb = 0.6 eps = 0.01 alpha = 5 batch_size = 50\n",
      "    Architecture  Accuracy        F1\n",
      "0   [64, 64, 10]  0.958786  0.959035\n",
      "1  [64, 128, 10]  0.964924  0.964825\n",
      "lamb = 0.4 eps = 0.001 alpha = 5 batch_size = 50\n",
      "    Architecture  Accuracy        F1\n",
      "0   [64, 64, 10]  0.964949  0.965058\n",
      "1  [64, 128, 10]  0.967716  0.967639\n",
      "lamb = 0.6 eps = 0.001 alpha = 5 batch_size = 50\n",
      "    Architecture  Accuracy        F1\n",
      "0   [64, 64, 10]  0.964918  0.964842\n",
      "1  [64, 128, 10]  0.968833  0.968655\n"
     ]
    }
   ],
   "source": [
    "hyper_params = [[0.4,0.01,5,50],[0.6,0.01,5,50],[0.4,0.001,5,50],[0.6,0.001,5,50]]\n",
    "for params in hyper_params:\n",
    "    dig_test(params[0],params[1],params[2],params[3])"
   ]
  },
  {
   "cell_type": "code",
   "execution_count": 28,
   "metadata": {},
   "outputs": [
    {
     "name": "stdout",
     "output_type": "stream",
     "text": [
      "lamb = 0.2 eps = 0.001 alpha = 5 batch_size = 50\n",
      "        Architecture  Accuracy        F1\n",
      "0       [64, 64, 10]  0.965455  0.965219\n",
      "1      [64, 128, 10]  0.972150  0.972106\n",
      "2  [64, 64, 128, 10]  0.962743  0.962414\n",
      "3   [64, 32, 64, 10]  0.946058  0.945727\n",
      "lamb = 0.4 eps = 0.001 alpha = 5 batch_size = 50\n",
      "        Architecture  Accuracy        F1\n",
      "0       [64, 64, 10]  0.957652  0.957369\n",
      "1      [64, 128, 10]  0.972685  0.972667\n",
      "2  [64, 64, 128, 10]  0.959403  0.959354\n",
      "3   [64, 32, 64, 10]  0.945982  0.945710\n"
     ]
    }
   ],
   "source": [
    "dig_nn_arc = [[64,64,10],[64,128,10],[64,64,128,10],[64,32,64,10]]\n",
    "hyper_params = [[0.2,0.001,5,50],[0.4,0.001,5,50]]\n",
    "for params in hyper_params:\n",
    "    dig_test(params[0],params[1],params[2],params[3])"
   ]
  },
  {
   "cell_type": "code",
   "execution_count": 3,
   "metadata": {},
   "outputs": [
    {
     "name": "stdout",
     "output_type": "stream",
     "text": [
      "lamb = 0.2 eps = 0.0001 alpha = 7 batch_size = 50\n",
      "         Architecture  Accuracy        F1\n",
      "0       [64, 128, 10]  0.966064  0.965883\n",
      "1  [64, 128, 128, 10]  0.972193  0.972465\n",
      "lamb = 0.2 eps = 0.0001 alpha = 10 batch_size = 50\n",
      "         Architecture  Accuracy        F1\n",
      "0       [64, 128, 10]  0.966079  0.965760\n",
      "1  [64, 128, 128, 10]  0.961644  0.961582\n"
     ]
    }
   ],
   "source": [
    "dig_nn_arc = [[64,128,10],[64,128,128,10]]\n",
    "hyper_params = [[0.2,0.0001,7,50],[0.2,0.0001,10,50]]\n",
    "for params in hyper_params:\n",
    "    dig_test(params[0],params[1],params[2],params[3])"
   ]
  },
  {
   "cell_type": "code",
   "execution_count": 31,
   "metadata": {},
   "outputs": [
    {
     "name": "stdout",
     "output_type": "stream",
     "text": [
      "lamb = 0.2 eps = 0.0001 alpha = 5 batch_size = 50\n",
      "            Architecture  Accuracy        F1\n",
      "0           [64, 64, 10]  0.959416  0.959145\n",
      "1          [64, 128, 10]  0.969383  0.969181\n",
      "2     [64, 128, 128, 10]  0.972754  0.972740\n",
      "3  [64, 64, 128, 64, 10]  0.963294  0.963047\n",
      "lamb = 0.2 eps = 0.0001 alpha = 7 batch_size = 50\n",
      "            Architecture  Accuracy        F1\n",
      "0           [64, 64, 10]  0.957667  0.957718\n",
      "1          [64, 128, 10]  0.972792  0.972715\n",
      "2     [64, 128, 128, 10]  0.970452  0.970365\n",
      "3  [64, 64, 128, 64, 10]  0.962088  0.961845\n"
     ]
    }
   ],
   "source": [
    "dig_nn_arc = [[64,64,10],[64,128,10],[64,128,128,10],[64,64,128,64,10]]\n",
    "hyper_params = [[0.2,0.0001,5,50],[0.2,0.0001,7,50]]\n",
    "for params in hyper_params:\n",
    "    dig_test(params[0],params[1],params[2],params[3])"
   ]
  },
  {
   "cell_type": "code",
   "execution_count": 7,
   "metadata": {},
   "outputs": [
    {
     "name": "stdout",
     "output_type": "stream",
     "text": [
      "lamb = 0.4 eps = 0.001 alpha = 5 batch_size = 50\n",
      "         Architecture  Accuracy        F1\n",
      "0       [64, 128, 10]  0.972705  0.972602\n",
      "1  [64, 128, 128, 10]  0.967140  0.967031\n",
      "lamb = 0.4 eps = 0.001 alpha = 7 batch_size = 50\n",
      "         Architecture  Accuracy        F1\n",
      "0       [64, 128, 10]  0.960403  0.960171\n",
      "1  [64, 128, 128, 10]  0.963249  0.963181\n"
     ]
    }
   ],
   "source": [
    "dig_nn_arc = [[64,128,10],[64,128,128,10]]\n",
    "hyper_params = [[0.4,0.001,5,50],[0.4,0.001,7,50]]\n",
    "for params in hyper_params:\n",
    "    dig_test(params[0],params[1],params[2],params[3])"
   ]
  },
  {
   "cell_type": "code",
   "execution_count": 143,
   "metadata": {},
   "outputs": [
    {
     "name": "stdout",
     "output_type": "stream",
     "text": [
      "lamb = 0.1 eps = 0.0001 alpha = 7 batch_size = 50\n",
      "    Architecture  Accuracy        F1\n",
      "0  [64, 128, 10]  0.970007  0.969877\n",
      "lamb = 0.05 eps = 0.0001 alpha = 7 batch_size = 50\n",
      "    Architecture  Accuracy        F1\n",
      "0  [64, 128, 10]   0.97151  0.971131\n"
     ]
    }
   ],
   "source": [
    "dig_nn_arc = [[64,128,10]]\n",
    "hyper_params = [[0.1,0.0001,7,50],[0.05,0.0001,7,50]]\n",
    "for params in hyper_params:\n",
    "    dig_test(params[0],params[1],params[2],params[3])"
   ]
  },
  {
   "cell_type": "code",
   "execution_count": 144,
   "metadata": {},
   "outputs": [
    {
     "name": "stdout",
     "output_type": "stream",
     "text": [
      "lamb = 0.1 eps = 0.0001 alpha = 5 batch_size = 50\n",
      "    Architecture  Accuracy       F1\n",
      "0  [64, 128, 10]  0.975509  0.97539\n",
      "lamb = 0.05 eps = 0.0001 alpha = 5 batch_size = 50\n",
      "    Architecture  Accuracy       F1\n",
      "0  [64, 128, 10]  0.963858  0.96357\n"
     ]
    }
   ],
   "source": [
    "dig_nn_arc = [[64,128,10]]\n",
    "hyper_params = [[0.1,0.0001,5,50],[0.05,0.0001,5,50]]\n",
    "for params in hyper_params:\n",
    "    dig_test(params[0],params[1],params[2],params[3])"
   ]
  },
  {
   "cell_type": "code",
   "execution_count": 146,
   "metadata": {},
   "outputs": [
    {
     "name": "stdout",
     "output_type": "stream",
     "text": [
      "lamb = 0.1 eps = 0.0001 alpha = 3 batch_size = 50\n",
      "    Architecture  Accuracy        F1\n",
      "0  [64, 128, 10]  0.973884  0.973724\n",
      "lamb = 0.1 eps = 0.0001 alpha = 5 batch_size = 50\n",
      "    Architecture  Accuracy        F1\n",
      "0  [64, 128, 10]  0.970489  0.970409\n"
     ]
    }
   ],
   "source": [
    "dig_nn_arc = [[64,128,10]]\n",
    "hyper_params = [[0.1,0.0001,3,50],[0.1,0.0001,5,50]]\n",
    "for params in hyper_params:\n",
    "    dig_test(params[0],params[1],params[2],params[3])"
   ]
  },
  {
   "attachments": {},
   "cell_type": "markdown",
   "metadata": {},
   "source": [
    "**1.4** After analyzing the performance of each algorithm under different hyper-parameters,\n",
    "identify the best hyper-parameter setting\n",
    "\n",
    "> From testing, using lamb = 0.1 eps = 0.0001 alpha = 5 batch_size = 50 resulted in the best performance, specifically using this architecture: [64,128,10]. For all parameters, using this architecture was best, although using 2 hidden layers with 128 neurons also yielded high performance. Lambda had the highest impact on performance, decreasing accuracy for higher values of lambda.\n",
    "\n",
    "**1.5** For each dataset, and considering the best hyper-parameter setting for each selected algorithm, construct\n",
    "relevant learning curves and/or graphs"
   ]
  },
  {
   "cell_type": "code",
   "execution_count": 149,
   "metadata": {},
   "outputs": [
    {
     "data": {
      "image/png": "[encoded data removed]",
      "text/plain": [
       "<Figure size 432x288 with 1 Axes>"
      ]
     },
     "metadata": {
      "needs_background": "light"
     },
     "output_type": "display_data"
    }
   ],
   "source": [
    "dig_j,dig_count = nn.k_fold(dig_fold,dig_vals,[[64,128,10]],0.1,0.0001,5,50,get_j=True)\n",
    "plt.plot(dig_count,dig_j)\n",
    "plt.xlabel('Number of Training Instances')\n",
    "plt.ylabel('Performance (J) on Test Set')\n",
    "plt.title('Hand Drawn Data Performance')\n",
    "plt.show()"
   ]
  },
  {
   "attachments": {},
   "cell_type": "markdown",
   "metadata": {},
   "source": [
    "Briefly discuss and interpret these graphs\n",
    "\n",
    "> This graph shows a clear downward trend in cost as the number of training instances increase, which is to be expected of neural networks.\n",
    "\n",
    "### 2. K-NN"
   ]
  },
  {
   "cell_type": "code",
   "execution_count": 29,
   "metadata": {},
   "outputs": [],
   "source": [
    "def test_decision_knn(train_set,test_set,vals,k_vals,fold_metrics):\n",
    "    test_copy = pd.DataFrame(test_set,copy=True)\n",
    "    to_guess = test_copy.drop('class',axis=1)\n",
    "    predictions = pd.DataFrame(to_guess.apply(lambda row: knn(k_vals,train_set,row), axis=1),columns=['predicted'])\n",
    "    predictions['actual'] = test_set.loc[predictions.index,'class']\n",
    "\n",
    "    for i in range(len(k_vals)):\n",
    "        prec,rec,f1 = [0,0,0]\n",
    "        for val in vals:\n",
    "            is_targ = predictions[predictions.predicted.apply(lambda x: x[i] == val)]\n",
    "            not_targ = predictions[predictions.predicted.apply(lambda x: x[i] != val)]\n",
    "            tp = len(is_targ[is_targ['predicted'].str[i] == is_targ['actual']])\n",
    "            fp = len(is_targ[is_targ['predicted'].str[i] != is_targ['actual']])\n",
    "            fn = len(not_targ[not_targ.actual.apply(lambda x: x == val)])\n",
    "            tn = len(not_targ[not_targ.actual.apply(lambda x: x != val)])\n",
    "            this_prec = (tp/(tp+fp)) if (tp+fp) > 0 else 0\n",
    "            this_rec = (tp/(tp+fn)) if (tp+fn) > 0 else 0\n",
    "            f1 += (this_prec*this_rec*2)/(this_rec+this_prec) if (this_rec+this_prec) > 0 else 0\n",
    "            prec += this_prec\n",
    "            rec += this_rec\n",
    "\n",
    "        avg_f1 = f1/len(vals)\n",
    "        accuracy = len(predictions[predictions['predicted'].str[i] == predictions['actual']])/len(test_set)\n",
    "        fold_metrics[k_vals[i]].append((accuracy,avg_f1))\n",
    "\n",
    "def knn(k_vals,data,instance):\n",
    "        out = []\n",
    "        distances = data.apply(lambda row: math.dist(row.drop('class'),instance), axis=1)\n",
    "        sorted_dist = distances.sort_values()\n",
    "        for k in k_vals:\n",
    "            #get k closest instances (including the input instance)\n",
    "            k_neighbors = sorted_dist[:k]\n",
    "            #get class value with largest number of occurences\n",
    "            out.append(data.loc[k_neighbors.index,['class']]['class'].mode()[0])\n",
    "        return out\n",
    "\n",
    "\n",
    "np.random.seed(1)\n",
    "k = 10\n",
    "#function to do cross fold validation\n",
    "def k_fold_jnn(fold,vals,j_vals):\n",
    "    fold_metrics = defaultdict(list)\n",
    "    #iterate through folds, taking turns being test fold\n",
    "    for i in range(k):\n",
    "        test_fold = fold[i]\n",
    "        train_fold = fold[0:i]\n",
    "        train_fold.extend(fold[i+1:len(fold)])\n",
    "        train_data = pd.concat(train_fold)\n",
    "        test_decision_knn(train_data,test_fold,vals,j_vals,fold_metrics)\n",
    "            \n",
    "    return fold_metrics\n",
    "\n",
    "def dig_test_knn(dig_fold,dig_vals,j_vals):\n",
    "    knn_res = k_fold_jnn(dig_fold,dig_vals,j_vals)\n",
    "    j_dict = defaultdict(list)\n",
    "\n",
    "    for j,perf in knn_res.items():\n",
    "        avg_acc,avg_f1 = [0,0]\n",
    "        for res in perf:\n",
    "            avg_acc += res[0]\n",
    "            avg_f1 += res[1]\n",
    "        j_dict['Num Neighbors'].append(j)\n",
    "        j_dict['Accuracy'].append(avg_acc/10)\n",
    "        j_dict['F1'].append(avg_f1/10)\n",
    "\n",
    "    j_table = pd.DataFrame(j_dict)\n",
    "    print(j_table)\n",
    "    return knn_res"
   ]
  },
  {
   "cell_type": "code",
   "execution_count": 6,
   "metadata": {},
   "outputs": [],
   "source": [
    "digits = datasets.load_digits(as_frame=True)\n",
    "dig_df = digits['data']\n",
    "dig_df['class'] = digits['target']\n",
    "dig_df = (dig_df - dig_df.min()) / (dig_df.max() - dig_df.min())\n",
    "dig_df.fillna(0,inplace=True)\n",
    "dig_class_0 = dig_df.loc[dig_df['class'] == 0].sample(frac=1)\n",
    "dg0_split =  np.array_split(dig_class_0,k)\n",
    "dig_class_1 = dig_df.loc[dig_df['class'] == 1/9].sample(frac=1)\n",
    "dg1_split =  np.array_split(dig_class_1,k)\n",
    "dig_class_2 = dig_df.loc[dig_df['class'] == 2/9].sample(frac=1)\n",
    "dg2_split =  np.array_split(dig_class_2,k)\n",
    "dig_class_3 = dig_df.loc[dig_df['class'] == 3/9].sample(frac=1)\n",
    "dg3_split =  np.array_split(dig_class_3,k)\n",
    "dig_class_4 = dig_df.loc[dig_df['class'] == 4/9].sample(frac=1)\n",
    "dg4_split =  np.array_split(dig_class_4,k)\n",
    "dig_class_5 = dig_df.loc[dig_df['class'] == 5/9].sample(frac=1)\n",
    "dg5_split =  np.array_split(dig_class_5,k)\n",
    "dig_class_6 = dig_df.loc[dig_df['class'] == 6/9].sample(frac=1)\n",
    "dg6_split =  np.array_split(dig_class_6,k)\n",
    "dig_class_7 = dig_df.loc[dig_df['class'] == 7/9].sample(frac=1)\n",
    "dg7_split =  np.array_split(dig_class_7,k)\n",
    "dig_class_8 = dig_df.loc[dig_df['class'] == 8/9].sample(frac=1)\n",
    "dg8_split =  np.array_split(dig_class_8,k)\n",
    "dig_class_9 = dig_df.loc[dig_df['class'] == 9/9].sample(frac=1)\n",
    "dg9_split =  np.array_split(dig_class_9,k)\n",
    "\n",
    "dig_vals = [0,1/9,2/9,3/9,4/9,5/9,6/9,7/9,8/9,9/9]\n",
    "#list to hold folds\n",
    "dig_fold = []\n",
    "for i in range(k):\n",
    "    this_fold = [dg0_split[i],dg1_split[i],dg2_split[i],dg3_split[i],dg4_split[i],dg5_split[i],dg6_split[i],dg7_split[i],dg8_split[i],dg9_split[i]]\n",
    "    dig_fold.append(pd.concat(this_fold))\n"
   ]
  },
  {
   "attachments": {},
   "cell_type": "markdown",
   "metadata": {},
   "source": [
    "**2.3** To obtain the best performance possible, you should carefully adjust the hyper-parameters of each\n",
    "algorithm when deployed on a dataset"
   ]
  },
  {
   "cell_type": "code",
   "execution_count": 30,
   "metadata": {},
   "outputs": [
    {
     "name": "stdout",
     "output_type": "stream",
     "text": [
      "    Num Neighbors  Accuracy        F1\n",
      "0               1  0.986578  0.986543\n",
      "1              10  0.983294  0.983319\n",
      "2              20  0.977175  0.976962\n",
      "3              30  0.966028  0.965733\n",
      "4              40  0.961546  0.961062\n",
      "5              50  0.952601  0.952120\n",
      "6              60  0.944879  0.944565\n",
      "7              70  0.939832  0.939233\n",
      "8              80  0.932074  0.931231\n",
      "9              90  0.931525  0.930757\n",
      "10            100  0.926557  0.925694\n"
     ]
    }
   ],
   "source": [
    "j_vals = [1,10,20,30,40,50,60,70,80,90,100]\n",
    "j_res = dig_test_knn(dig_fold,dig_vals,j_vals)"
   ]
  },
  {
   "attachments": {},
   "cell_type": "markdown",
   "metadata": {},
   "source": [
    "**2.4** After analyzing the performance of each algorithm under different hyper-parameters,\n",
    "identify the best hyper-parameter setting\n",
    "\n",
    "> From testing, using low number of neighbors yielded the best results, showing a clear decrease in accuracy as the value of K increased. The best hyper-parameter setting to use we identified was K = 1\n",
    "\n",
    "**2.5** For each dataset, and considering the best hyper-parameter setting for each selected algorithm, construct\n",
    "relevant learning curves and/or graphs"
   ]
  },
  {
   "cell_type": "code",
   "execution_count": 31,
   "metadata": {},
   "outputs": [
    {
     "data": {
      "image/png": "[encoded data removed]",
      "text/plain": [
       "<Figure size 432x288 with 1 Axes>"
      ]
     },
     "metadata": {
      "needs_background": "light"
     },
     "output_type": "display_data"
    }
   ],
   "source": [
    "j_vals = []\n",
    "j_acc = []\n",
    "for j,perf in j_res.items():\n",
    "    avg_acc,avg_f1 = [0,0]\n",
    "    for res in perf:\n",
    "        avg_acc += res[0]\n",
    "        avg_f1 += res[1]\n",
    "    j_acc.append(avg_acc/10)\n",
    "    j_vals.append(j)\n",
    "\n",
    "plt.plot(j_vals,j_acc)\n",
    "plt.xlabel(\"K value\")\n",
    "plt.ylabel(\"Accuracy\")\n",
    "plt.title(\"K-NN Neighbors vs Accuracy on Hand Drawn Dataset\")\n",
    "plt.show()"
   ]
  },
  {
   "attachments": {},
   "cell_type": "markdown",
   "metadata": {},
   "source": [
    "Briefly discuss and interpret these graphs\n",
    "\n",
    "> This graph shows a clear downward accuracy as K increases. K-NN peformed very well on this dataset, which is likely due to the nature of how hand drawn numbers are stored; since each instance represents pixel values in the drawn image, we would expect that the training data point closest to our test instance in terms of euclidean distance is in fact the expected output.\n"
   ]
  },
  {
   "attachments": {},
   "cell_type": "markdown",
   "metadata": {},
   "source": [
    "## Titanic Dataset\n",
    "\n",
    "**Models Used:**\n",
    "- Naive Bayes\n",
    "- Decision tree"
   ]
  },
  {
   "cell_type": "code",
   "execution_count": null,
   "metadata": {},
   "outputs": [],
   "source": []
  },
  {
   "attachments": {},
   "cell_type": "markdown",
   "metadata": {},
   "source": [
    "## Loan Eligibility Prediction Dataset\n",
    "\n",
    "**Models Used:**\n",
    "- K-NN\n",
    "- Random Forests"
   ]
  },
  {
   "attachments": {},
   "cell_type": "markdown",
   "metadata": {},
   "source": [
    "### 1. K-NN"
   ]
  },
  {
   "cell_type": "code",
   "execution_count": 39,
   "metadata": {},
   "outputs": [],
   "source": [
    "loan_df = pd.read_csv('loan.csv')\n",
    "dum_df = pd.get_dummies(loan_df.drop('Loan_ID',axis=1),columns=['Gender','Married','Education','Self_Employed','Property_Area','Loan_Status'],drop_first=True,dtype=float)\n",
    "fixed_df = dum_df.drop('Loan_Status_Y',axis=1)\n",
    "fixed_df.loc[fixed_df['Dependents'] == '3+','Dependents'] = 3\n",
    "fixed_df['Dependents'] = pd.to_numeric(fixed_df['Dependents'])\n",
    "fixed_df['class'] = dum_df['Loan_Status_Y']\n",
    "fixed_df = (fixed_df - fixed_df.min()) / (fixed_df.max() - fixed_df.min())\n",
    "fixed_df.fillna(0,inplace=True)\n",
    "loan_class_0 = fixed_df.loc[fixed_df['class'] == 0].sample(frac=1)\n",
    "l0_split =  np.array_split(loan_class_0,k)\n",
    "loan_class_1 = fixed_df.loc[fixed_df['class'] == 1].sample(frac=1)\n",
    "l1_split =  np.array_split(loan_class_1,k)\n",
    "\n",
    "k = 10\n",
    "loan_vals = [0,1]\n",
    "#list to hold folds\n",
    "loan_fold = []\n",
    "for i in range(k):\n",
    "    this_fold = [l0_split[i],l1_split[i]]\n",
    "    loan_fold.append(pd.concat(this_fold))"
   ]
  },
  {
   "cell_type": "code",
   "execution_count": 51,
   "metadata": {},
   "outputs": [
    {
     "name": "stdout",
     "output_type": "stream",
     "text": [
      "   Num Neighbors  Accuracy        F1\n",
      "0              1  0.699818  0.630189\n",
      "1              5  0.773054  0.682017\n",
      "2             10  0.770973  0.676292\n",
      "3             15  0.762636  0.628743\n",
      "4             20  0.764763  0.636746\n",
      "5             30  0.762458  0.620200\n",
      "6             40  0.739671  0.563968\n",
      "7             50  0.747831  0.575239\n",
      "8             60  0.731245  0.530473\n",
      "9             70  0.718657  0.495590\n"
     ]
    }
   ],
   "source": [
    "j_vals = [1,5,10,15,20,30,40,50,60,70]\n",
    "j_res = dig_test_knn(loan_fold,loan_vals,j_vals)"
   ]
  },
  {
   "attachments": {},
   "cell_type": "markdown",
   "metadata": {},
   "source": [
    "**1.4** After analyzing the performance of each algorithm under different hyper-parameters,\n",
    "identify the best hyper-parameter setting\n",
    "\n",
    "> From testing, using low number of neighbors yielded the best results, showing a decreasing trend as K grows larger than 5. The best hyper-parameter setting to use we identified was K = 5\n",
    "\n",
    "**1.5** For each dataset, and considering the best hyper-parameter setting for each selected algorithm, construct\n",
    "relevant learning curves and/or graphs"
   ]
  },
  {
   "cell_type": "code",
   "execution_count": 52,
   "metadata": {},
   "outputs": [
    {
     "data": {
      "image/png": "[encoded data removed]",
      "text/plain": [
       "<Figure size 432x288 with 1 Axes>"
      ]
     },
     "metadata": {
      "needs_background": "light"
     },
     "output_type": "display_data"
    }
   ],
   "source": [
    "j_vals = []\n",
    "j_acc = []\n",
    "for j,perf in j_res.items():\n",
    "    avg_acc,avg_f1 = [0,0]\n",
    "    for res in perf:\n",
    "        avg_acc += res[0]\n",
    "        avg_f1 += res[1]\n",
    "    j_acc.append(avg_acc/10)\n",
    "    j_vals.append(j)\n",
    "\n",
    "plt.plot(j_vals,j_acc)\n",
    "plt.xlabel(\"K value\")\n",
    "plt.ylabel(\"Accuracy\")\n",
    "plt.title(\"K-NN Neighbors vs Accuracy on Loans Dataset\")\n",
    "plt.show()"
   ]
  },
  {
   "attachments": {},
   "cell_type": "markdown",
   "metadata": {},
   "source": [
    "Briefly discuss and interpret these graphs\n",
    "\n",
    "> This graph shows a large jump in accuracy from K = 1 to K = 5. For all K > 5, there is a clear downward trend in accuracy as K increases. This model did not perform well for the dataset, likely due to the fact that the loans dataset contains a large number of categorical variables."
   ]
  },
  {
   "attachments": {},
   "cell_type": "markdown",
   "metadata": {},
   "source": [
    "## Oxford Parkingson's Disease Detection\n",
    "\n",
    "**Models Used:**\n",
    "- Neural Networks\n",
    "- K-NN"
   ]
  },
  {
   "attachments": {},
   "cell_type": "markdown",
   "metadata": {},
   "source": [
    "### 1. K-NN"
   ]
  },
  {
   "cell_type": "code",
   "execution_count": 42,
   "metadata": {},
   "outputs": [],
   "source": [
    "park_df = pd.read_csv('parkinsons.csv')\n",
    "\n",
    "park_fix = park_df.drop('Diagnosis',axis=1)\n",
    "park_fix['class'] = park_df['Diagnosis']\n",
    "park_fix = (park_fix - park_fix.min()) / (park_fix.max() - park_fix.min())\n",
    "park_fix.fillna(0,inplace=True)\n",
    "park_class_0 = park_fix.loc[park_fix['class'] == 0].sample(frac=1)\n",
    "p0_split =  np.array_split(park_class_0,k)\n",
    "park_class_1 = park_fix.loc[park_fix['class'] == 1].sample(frac=1)\n",
    "p1_split =  np.array_split(park_class_1,k)\n",
    "\n",
    "k = 10\n",
    "park_vals = [0,1]\n",
    "#list to hold folds\n",
    "park_fold = []\n",
    "for i in range(k):\n",
    "    this_fold = [p0_split[i],p1_split[i]]\n",
    "    park_fold.append(pd.concat(this_fold))"
   ]
  },
  {
   "attachments": {},
   "cell_type": "markdown",
   "metadata": {},
   "source": [
    "**1.4** After analyzing the performance of each algorithm under different hyper-parameters,\n",
    "identify the best hyper-parameter setting\n",
    "\n",
    "> From testing, using low number of neighbors yielded the best results, showing a clear decrease in accuracy as the value of K increased. The best hyper-parameter setting to use we identified was K = 1\n",
    "\n",
    "**1.5** For each dataset, and considering the best hyper-parameter setting for each selected algorithm, construct\n",
    "relevant learning curves and/or graphs"
   ]
  },
  {
   "cell_type": "code",
   "execution_count": 47,
   "metadata": {},
   "outputs": [
    {
     "name": "stdout",
     "output_type": "stream",
     "text": [
      "    Num Neighbors  Accuracy        F1\n",
      "0               1  0.964211  0.954831\n",
      "1               5  0.928392  0.901292\n",
      "2              10  0.891170  0.845451\n",
      "3              15  0.840614  0.728745\n",
      "4              20  0.829503  0.676902\n",
      "5              25  0.815058  0.636132\n",
      "6              30  0.830058  0.670143\n",
      "7              35  0.835058  0.672254\n",
      "8              40  0.830058  0.663797\n",
      "9              45  0.810058  0.609038\n",
      "10             50  0.794503  0.564036\n"
     ]
    }
   ],
   "source": [
    "j_vals = [1,5,10,15,20,25,30,35,40,45,50]\n",
    "j_res = dig_test_knn(park_fold,park_vals,j_vals)"
   ]
  },
  {
   "cell_type": "code",
   "execution_count": 48,
   "metadata": {},
   "outputs": [
    {
     "data": {
      "image/png": "[encoded data removed]",
      "text/plain": [
       "<Figure size 432x288 with 1 Axes>"
      ]
     },
     "metadata": {
      "needs_background": "light"
     },
     "output_type": "display_data"
    }
   ],
   "source": [
    "j_vals = []\n",
    "j_acc = []\n",
    "for j,perf in j_res.items():\n",
    "    avg_acc,avg_f1 = [0,0]\n",
    "    for res in perf:\n",
    "        avg_acc += res[0]\n",
    "        avg_f1 += res[1]\n",
    "    j_acc.append(avg_acc/10)\n",
    "    j_vals.append(j)\n",
    "\n",
    "plt.plot(j_vals,j_acc)\n",
    "plt.xlabel(\"K value\")\n",
    "plt.ylabel(\"Accuracy\")\n",
    "plt.title(\"K-NN Neighbors vs Accuracy on Parkiknsons Dataset\")\n",
    "plt.show()"
   ]
  },
  {
   "attachments": {},
   "cell_type": "markdown",
   "metadata": {},
   "source": [
    "Briefly discuss and interpret these graphs\n",
    "\n",
    "> This graph shows a clear downward accuracy as K increases. K-NN peformed very well on this dataset, which is likely due to the fact that the parkinsons data is all continuous and numeric."
   ]
  }
 ],
 "metadata": {
  "kernelspec": {
   "display_name": "Python 3",
   "language": "python",
   "name": "python3"
  },
  "language_info": {
   "codemirror_mode": {
    "name": "ipython",
    "version": 3
   },
   "file_extension": ".py",
   "mimetype": "text/x-python",
   "name": "python",
   "nbconvert_exporter": "python",
   "pygments_lexer": "ipython3",
   "version": "3.9.13"
  },
  "orig_nbformat": 4
 },
 "nbformat": 4,
 "nbformat_minor": 2
}
